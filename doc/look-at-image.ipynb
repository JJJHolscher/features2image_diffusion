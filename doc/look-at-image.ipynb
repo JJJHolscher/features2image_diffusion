{
  "cells": [
    {
      "cell_type": "code",
      "metadata": {},
      "source": [
        "import jupyter\n",
        "from pathlib import Path\n",
        "from PIL import Image\n",
        "import plotly.express as px\n",
        "import ipywidgets as widgets\n",
        "\n",
        "%cd ../run/\n",
        "\n",
        "run_dir = Path(\"4409b6282a7d05f0b08880228d6d6564011fa40be412073ff05aff8bf2dc49fa\")\n",
        "data_id = 3\n",
        "feature_id = 0\n",
        "edit = 0\n",
        "\n",
        "image = Image.open(run_dir / str(data_id) / \"unedited-images.png\")\n",
        "fig = px.imshow(image)\n",
        "fig.show()"
      ],
      "id": "77910ae3",
      "execution_count": null,
      "outputs": []
    },
    {
      "cell_type": "code",
      "metadata": {},
      "source": [
        "from IPython.display import HTML, display\n",
        "\n",
        "html = \"\"\"\n",
        "<button id=\"b2\" type=\"button\" onclick='document.getElementById(\"output\").src = \"/run/4409b6282a7d05f0b08880228d6d6564011fa40be412073ff05aff8bf2dc49fa/5/unedited-images.png\"'>\n",
        "Click Me!\n",
        "</button>\n",
        "\n",
        "<img id=\"output\"></img>\n",
        "\"\"\"\n",
        "\n",
        "display(HTML(html))"
      ],
      "id": "b89f850e",
      "execution_count": null,
      "outputs": []
    }
  ],
  "metadata": {
    "kernelspec": {
      "name": "python3",
      "language": "python",
      "display_name": "Python 3 (ipykernel)"
    }
  },
  "nbformat": 4,
  "nbformat_minor": 5
}