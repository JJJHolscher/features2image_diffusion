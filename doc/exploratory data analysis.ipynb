{
 "cells": [
  {
   "cell_type": "code",
   "execution_count": 1,
   "id": "630c31e2-cd77-4ad5-adf7-809835880667",
   "metadata": {},
   "outputs": [
    {
     "data": {
      "text/html": [
       "\n",
       "<script>\n",
       "if (typeof window.evcxr === 'undefined') {\n",
       "    window.evcxr = {};\n",
       "\n",
       "    // jupyter lab hides files behind the '/files/' prefix.\n",
       "    // which is annoying. We have to have to mind that while loading.\n",
       "    // here we find the path of the notebook in the active Jupyter Lab tab.\n",
       "    console.log('your first time calling the wasm command from evcxr, requires you to stay on the same jupyter lab tab during compilation, if you are using jupyter lab. sorry');\n",
       "    active_tab = document.querySelector('[class~=jp-mod-current]');\n",
       "    console.log(active_tab);\n",
       "    if (active_tab !== null) {\n",
       "        nb_dir = './' + active_tab.title.split('\\n')[1].substr(6);\n",
       "        console.log(nb_dir);\n",
       "        nb_dir = nb_dir.substr(0, nb_dir.lastIndexOf('/')) + '/';\n",
       "        console.log(nb_dir);\n",
       "        window.evcxr_cwd = '/files/' + nb_dir;\n",
       "        console.log(window.evcxr_cwd);\n",
       "    }\n",
       "}\n",
       "\n",
       "window.__evcxr_load = function(init, wasm_bindgen) {\n",
       "    for (const [fn_name, fn] of Object.entries(wasm_bindgen)) {\n",
       "        if (typeof fn === 'function') {\n",
       "            async function loader_fn(...args) {\n",
       "                await init();\n",
       "                return fn(...args);\n",
       "            };\n",
       "            Object.defineProperty(window.evcxr, fn_name, { \n",
       "                writable: true,\n",
       "                value: loader_fn \n",
       "            });\n",
       "        }\n",
       "    }\n",
       "}\n",
       "\n",
       "if (window.evcxr_cwd) {\n",
       "    import(window.evcxr_cwd + 'evcxr_pkg/feature-images/ctx.js').then((module) => {\n",
       "        console.log(module);\n",
       "        window.__evcxr_load(module.default, module);\n",
       "    });\n",
       "}\n",
       "</script>\n",
       "<script type='module'>\n",
       "// this errors inside jupyter lab or jupyter notebook\n",
       "import init, * as wasm_bindgen from './evcxr_pkg/feature-images/ctx.js'\n",
       "window.__evcxr_load(init, wasm_bindgen);\n",
       "window.evcxr_cwd = './'\n",
       "</script>\n"
      ]
     },
     "execution_count": 2,
     "metadata": {},
     "output_type": "execute_result"
    }
   ],
   "source": [
    ":wasm feature-images\n",
    ":dep wasm-bindgen = \"*\"\n",
    ":dep features2image_diffusion-widget = { path = \"../widget\" }\n",
    ":dep web-sys = { version = \"*\", features = [\"HtmlElement\"] }\n",
    "use wasm_bindgen::prelude::*;\n",
    "use features2image_diffusion_widget;\n",
    "use web_sys::HtmlElement;"
   ]
  },
  {
   "cell_type": "code",
   "execution_count": 2,
   "id": "f339dd62-6465-4bf7-ba04-56e76657bbf7",
   "metadata": {},
   "outputs": [],
   "source": [
    ":dep rand = \"*\"\n",
    "use rand::distributions::{Alphanumeric, DistString};\n",
    "\n",
    "fn display_js(js: &str) {\n",
    "    let id = Alphanumeric.sample_string(&mut rand::thread_rng(), 16);\n",
    "    println!(\"EVCXR_BEGIN_CONTENT text/html\\n\n",
    "    <link rel='stylesheet' href='../web/tailwind.css'>\n",
    "    <div id='{id}'></div>\n",
    "    <script>\n",
    "        async function __evcxr_display() {{\n",
    "            evcxr = window.evcxr;\n",
    "            cwd = window.evcxr_cwd;\n",
    "            root = document.getElementById('{id}');\n",
    "            {js}\n",
    "        }};\n",
    "        if (window.evcxr.keys) {{\n",
    "            console.log('already exists');\n",
    "            __evcxr_display();\n",
    "        }} else {{\n",
    "            console.log('adding listener');\n",
    "            window.addEventListener('load', __evcxr_display);\n",
    "        }}\n",
    "    </script>\n",
    "    \\nEVCXR_END_CONTENT\");\n",
    "}"
   ]
  },
  {
   "cell_type": "code",
   "execution_count": 3,
   "id": "aa694acc-7876-4d53-816b-9cc37d51edce",
   "metadata": {},
   "outputs": [],
   "source": [
    ":dep features2image_diffusion-read-result = { path = \"../read-result\" }\n",
    "use features2image_diffusion_read_result::create_file_tensor;\n",
    "use features2image_diffusion_read_result::f2id_fs::Files;\n",
    "use features2image_diffusion_read_result::list_paths::list_paths;\n",
    "\n",
    "let RUN_ID = \"4409b6282a7d05f0b08880228d6d6564011fa40be412073ff05aff8bf2dc49fa\";\n",
    "let RUN_DIR = format!(\"../xyz/run/{RUN_ID}\");"
   ]
  },
  {
   "cell_type": "code",
   "execution_count": 4,
   "id": "37d41223-c5e7-43b2-808a-6ebb95bfbd15",
   "metadata": {},
   "outputs": [
    {
     "data": {
      "text/plain": [
       "[18, 256, 4, 3]"
      ]
     },
     "execution_count": 5,
     "metadata": {},
     "output_type": "execute_result"
    }
   ],
   "source": [
    "let files: Files = create_file_tensor(&RUN_DIR).unwrap();\n",
    "std::fs::write(\"./files.bytes\", files.to_bytes()?)?;\n",
    "files.dfmt.shape()"
   ]
  },
  {
   "cell_type": "code",
   "execution_count": 5,
   "id": "7386f0e9-a26b-4086-a326-fce6fe76c271",
   "metadata": {},
   "outputs": [
    {
     "data": {
      "text/html": [
       "    <link rel='stylesheet' href='../web/tailwind.css'>\n",
       "    <div id='py267c0pkBh3179k'></div>\n",
       "    <script>\n",
       "        async function __evcxr_display() {\n",
       "            evcxr = window.evcxr;\n",
       "            cwd = window.evcxr_cwd;\n",
       "            root = document.getElementById('py267c0pkBh3179k');\n",
       "            \n",
       "resp = await fetch(cwd + 'files.bytes');\n",
       "evcxr.feature_images(\n",
       "    root,\n",
       "    new Uint8Array(await resp.arrayBuffer()),\n",
       "    cwd + '../xyz/run/4409b6282a7d05f0b08880228d6d6564011fa40be412073ff05aff8bf2dc49fa'\n",
       ");\n",
       "\n",
       "        };\n",
       "        if (window.evcxr.keys) {\n",
       "            console.log('already exists');\n",
       "            __evcxr_display();\n",
       "        } else {\n",
       "            console.log('adding listener');\n",
       "            window.addEventListener('load', __evcxr_display);\n",
       "        }\n",
       "    </script>\n",
       "    "
      ]
     },
     "execution_count": 6,
     "metadata": {},
     "output_type": "execute_result"
    }
   ],
   "source": [
    "display_js(&format!(\"\n",
    "resp = await fetch(cwd + 'files.bytes');\n",
    "evcxr.feature_images(\n",
    "    root,\n",
    "    new Uint8Array(await resp.arrayBuffer()),\n",
    "    cwd + '{RUN_DIR}'\n",
    ");\n",
    "\"));"
   ]
  },
  {
   "cell_type": "code",
   "execution_count": 6,
   "id": "fa3cf693-f644-420d-80f5-449bc85b144a",
   "metadata": {},
   "outputs": [],
   "source": []
  }
 ],
 "metadata": {
  "kernelspec": {
   "display_name": "Rust+Wasm",
   "language": "rust",
   "name": "rust"
  },
  "language_info": {
   "codemirror_mode": "rust",
   "file_extension": ".rs",
   "mimetype": "text/rust",
   "name": "Rust",
   "pygment_lexer": "rust",
   "version": ""
  }
 },
 "nbformat": 4,
 "nbformat_minor": 5
}
