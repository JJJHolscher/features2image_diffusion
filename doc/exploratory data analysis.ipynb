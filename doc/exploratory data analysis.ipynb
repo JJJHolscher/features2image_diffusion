{
 "cells": [
  {
   "cell_type": "code",
   "execution_count": 2,
   "id": "630c31e2-cd77-4ad5-adf7-809835880667",
   "metadata": {},
   "outputs": [
    {
     "data": {
      "text/html": [
       "\n",
       "<script>\n",
       "if (typeof window.evcxr === 'undefined') {\n",
       "    window.evcxr = {};\n",
       "}\n",
       "\n",
       "window.__evcxr_load = function(wasm_bindgen) {\n",
       "    for (const [fn_name, fn] of Object.entries(wasm_bindgen)) {\n",
       "        if (typeof fn === 'function') {\n",
       "            Object.defineProperty(window.evcxr, fn_name, { \n",
       "                writable: true,\n",
       "                value: fn \n",
       "            });\n",
       "            window.dispatchEvent(new Event('evcxr_' + fn_name));\n",
       "        }\n",
       "    }\n",
       "}\n",
       "</script>\n",
       "<script type='module'>\n",
       "import init, * as wasm_bindgen from './evcxr_pkg/feature-images/ctx.js';\n",
       "await init();\n",
       "if (typeof window.evcxr_cwd === 'undefined') {\n",
       "    window.evcxr_cwd = '.';\n",
       "    window.dispatchEvent(new Event('__evcxr_cwd'));\n",
       "}\n",
       "window.__evcxr_load(wasm_bindgen);\n",
       "</script>\n",
       "<script type='module'>\n",
       "import init, * as wasm_bindgen from '/files/doc/evcxr_pkg/feature-images/ctx.js';\n",
       "await init();\n",
       "if (typeof window.evcxr_cwd === 'undefined') {\n",
       "    window.evcxr_cwd = '/files/doc';\n",
       "    window.dispatchEvent(new Event('__evcxr_cwd'));\n",
       "}\n",
       "window.__evcxr_load(wasm_bindgen);\n",
       "</script>\n"
      ]
     },
     "execution_count": 2,
     "metadata": {},
     "output_type": "execute_result"
    }
   ],
   "source": [
    ":wasm feature-images\n",
    ":dep wasm-bindgen = \"*\"\n",
    ":dep features2image_diffusion-widget = { path = \"../widget\" }\n",
    ":dep web-sys = { version = \"*\", features = [\"HtmlElement\"] }\n",
    "use wasm_bindgen::prelude::*;\n",
    "use features2image_diffusion_widget;\n",
    "use web_sys::HtmlElement;"
   ]
  },
  {
   "cell_type": "code",
   "execution_count": 3,
   "id": "aa694acc-7876-4d53-816b-9cc37d51edce",
   "metadata": {},
   "outputs": [
    {
     "data": {
      "text/html": [
       "<script>\n",
       "function __evcxr_stylesheet() {\n",
       "    const link = document.getElementById('evcxr_stylesheet');\n",
       "    if (link) {\n",
       "        link.href = window.evcxr_cwd + '/../web/tailwind.css';\n",
       "    } else {\n",
       "        const link = document.createElement('link');\n",
       "        link.id = 'evcxr_stylesheet';\n",
       "        link.href = window.evcxr_cwd + '/../web/tailwind.css';\n",
       "        link.rel = 'stylesheet';\n",
       "        document.getElementsByTagName('head')[0].appendChild(link);\n",
       "    }\n",
       "}\n",
       "if (typeof window.evcxr_cwd === 'undefined') {\n",
       "    window.addEventListener(\n",
       "        '__evcxr_cwd',\n",
       "        __evcxr_stylesheet,\n",
       "        { once: true }\n",
       "    );\n",
       "} else {\n",
       "    __evcxr_stylesheet();\n",
       "}\n",
       "</script>\n"
      ]
     },
     "execution_count": 3,
     "metadata": {},
     "output_type": "execute_result"
    }
   ],
   "source": [
    ":dep features2image_diffusion-read-result = { path = \"../read-result\" }\n",
    ":dep evcxr_ssg = \"*\"\n",
    "use evcxr_ssg::call_wasm;\n",
    "use features2image_diffusion_read_result::{\n",
    "    create_file_tensor,\n",
    "    f2id_fs::Files,\n",
    "    list_paths::list_paths\n",
    "};\n",
    "evcxr_ssg::stylesheet(\"../web/tailwind.css\");\n",
    "let RUN_ID = \"4409b6282a7d05f0b08880228d6d6564011fa40be412073ff05aff8bf2dc49fa\";\n",
    "let RUN_DIR = format!(\"../xyz/run/{RUN_ID}\");"
   ]
  },
  {
   "cell_type": "code",
   "execution_count": 4,
   "id": "37d41223-c5e7-43b2-808a-6ebb95bfbd15",
   "metadata": {},
   "outputs": [
    {
     "data": {
      "text/plain": [
       "[18, 256, 4, 3]"
      ]
     },
     "execution_count": 4,
     "metadata": {},
     "output_type": "execute_result"
    }
   ],
   "source": [
    "let files: Files = create_file_tensor(&RUN_DIR).unwrap();\n",
    "files.dfmt.shape()"
   ]
  },
  {
   "cell_type": "code",
   "execution_count": 5,
   "id": "7386f0e9-a26b-4086-a326-fce6fe76c271",
   "metadata": {},
   "outputs": [
    {
     "data": {
      "text/html": [
       "<div id='feature_images_ZJwIheHS'></div>\n",
       "<script>\n",
       "async function __evcxr_display_feature_images_ZJwIheHS() {\n",
       "    root = document.getElementById('feature_images_ZJwIheHS');\n",
       "    args = [];\n",
       "    args.push(root);\n",
       "args.push(window.evcxr_cwd + '/../xyz/run/4409b6282a7d05f0b08880228d6d6564011fa40be412073ff05aff8bf2dc49fa');\n",
       "resp = await fetch(window.evcxr_cwd + '/evcxr_pkg/dc5f7d84cccf2f5cb15801be1c28a9946977315623c5b84c19ad0e80ff376331.postcard');\n",
       "            args.push(new Uint8Array(await resp.arrayBuffer()));\n",
       "    window.evcxr.feature_images(...args);\n",
       "}\n",
       "if (window.evcxr.feature_images) {\n",
       "    __evcxr_display_feature_images_ZJwIheHS();\n",
       "} else {\n",
       "    window.addEventListener(\n",
       "        'evcxr_feature_images',\n",
       "        __evcxr_display_feature_images_ZJwIheHS,\n",
       "        { once: true }\n",
       "    );\n",
       "}\n",
       "</script>\n"
      ]
     },
     "execution_count": 5,
     "metadata": {},
     "output_type": "execute_result"
    }
   ],
   "source": [
    "call_wasm!(\"feature_images\", \"$\", &RUN_DIR, &files);"
   ]
  },
  {
   "cell_type": "code",
   "execution_count": null,
   "id": "9ac1eee6-f984-432e-a614-2412bd9220f0",
   "metadata": {},
   "outputs": [],
   "source": []
  }
 ],
 "metadata": {
  "kernelspec": {
   "display_name": "Rust+Wasm",
   "language": "rust",
   "name": "rust"
  },
  "language_info": {
   "codemirror_mode": "rust",
   "file_extension": ".rs",
   "mimetype": "text/rust",
   "name": "Rust",
   "pygment_lexer": "rust",
   "version": ""
  }
 },
 "nbformat": 4,
 "nbformat_minor": 5
}
