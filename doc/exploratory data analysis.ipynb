{
 "cells": [
  {
   "cell_type": "code",
   "execution_count": 1,
   "id": "aa694acc-7876-4d53-816b-9cc37d51edce",
   "metadata": {},
   "outputs": [
    {
     "name": "stdout",
     "output_type": "stream",
     "text": [
      "/home/jo3/p/features2image_diffusion\n"
     ]
    },
    {
     "name": "stderr",
     "output_type": "stream",
     "text": [
      "/home/jo3/p/features2image_diffusion/.venv/lib/python3.11/site-packages/IPython/core/magics/osm.py:417: UserWarning:\n",
      "\n",
      "using dhist requires you to install the `pickleshare` library.\n",
      "\n"
     ]
    }
   ],
   "source": [
    "%cd .."
   ]
  },
  {
   "cell_type": "code",
   "execution_count": 63,
   "id": "630c31e2-cd77-4ad5-adf7-809835880667",
   "metadata": {},
   "outputs": [
    {
     "data": {
      "text/html": [
       "\n",
       "<script>\n",
       "if (typeof window.evcxr === 'undefined') {\n",
       "    window.evcxr = {};\n",
       "}\n",
       "\n",
       "window.__evcxr_load = function(init, wasm_bindgen) {\n",
       "    for (const [fn_name, fn] of Object.entries(wasm_bindgen)) {\n",
       "        if (typeof fn === 'function') {\n",
       "            async function loader_fn(...args) {\n",
       "                await init();\n",
       "                return fn(...args);\n",
       "            };\n",
       "            Object.defineProperty(window.evcxr, fn_name, { \n",
       "                writable: true,\n",
       "                value: loader_fn \n",
       "            });\n",
       "        }\n",
       "    }\n",
       "}\n",
       "</script>\n",
       "<script type='module'>\n",
       "// this errors in jupyter lab or jupyter notebook\n",
       "import init, * as wasm_bindgen from './evxcr_pkg/test/ctx.js'\n",
       "window.__evcxr_load(init, wasm_bindgen);\n",
       "</script>\n",
       "<script type='module'>\n",
       "// this errors when not in jupyter lab or jupyter notebook\n",
       "import init, * as wasm_bindgen from '/files/evxcr_pkg/test/ctx.js?version=1710847902985'\n",
       "window.__evcxr_load(init, wasm_bindgen);\n",
       "</script>\n"
      ]
     },
     "execution_count": 63,
     "metadata": {},
     "output_type": "execute_result"
    }
   ],
   "source": [
    ":wasm test\n",
    ":dep wasm-bindgen = \"*\"\n",
    "use wasm_bindgen::prelude::*;\n",
    "\n",
    "#[wasm_bindgen]\n",
    "pub fn greet(name: String) -> String {\n",
    "    format!(\"hello {name}\")\n",
    "}"
   ]
  },
  {
   "cell_type": "code",
   "execution_count": 70,
   "id": "f339dd62-6465-4bf7-ba04-56e76657bbf7",
   "metadata": {},
   "outputs": [
    {
     "data": {
      "text/html": [
       "    <div id='rvdzQ5jFMtpyd51z'></div>\n",
       "    <script>\n",
       "        async function __evcxr_display() {\n",
       "            evcxr = window.evcxr;\n",
       "            root = document.getElementById('rvdzQ5jFMtpyd51z');\n",
       "            root.innerHTML = await evcxr.greet('world')\n",
       "        };\n",
       "        window.on_load = __evcxr_display;\n",
       "        __evcxr_display();\n",
       "    </script>\n",
       "    "
      ]
     },
     "execution_count": 70,
     "metadata": {},
     "output_type": "execute_result"
    }
   ],
   "source": [
    ":dep rand = \"*\"\n",
    "use rand::distributions::{Alphanumeric, DistString};\n",
    "\n",
    "fn display_js(js: &str) {\n",
    "    let id = Alphanumeric.sample_string(&mut rand::thread_rng(), 16);\n",
    "    println!(\"EVCXR_BEGIN_CONTENT text/html\\n\n",
    "    <div id='{id}'></div>\n",
    "    <script>\n",
    "        async function __evcxr_display() {{\n",
    "            evcxr = window.evcxr;\n",
    "            root = document.getElementById('{id}');\n",
    "            {js}\n",
    "        }};\n",
    "        window.on_load = __evcxr_display;\n",
    "        __evcxr_display();\n",
    "    </script>\n",
    "    \\nEVCXR_END_CONTENT\");\n",
    "}\n",
    "\n",
    "display_js(\"root.innerHTML = await evcxr.greet('world')\");"
   ]
  },
  {
   "cell_type": "code",
   "execution_count": 2,
   "id": "bb47afc6-821c-4fa0-ad68-0b9232ea73b7",
   "metadata": {},
   "outputs": [
    {
     "name": "stdout",
     "output_type": "stream",
     "text": [
      "create the dataloader\n",
      "convert the loader to a dataframe\n",
      "Launching the widget server\n"
     ]
    },
    {
     "data": {
      "text/plain": [
       "(<Thread(http server, started 129623161571008)>,\n",
       " '<!doctype html>\\n<html lang=\"en\">\\n  <head>\\n    <script type=\"module\">\\n      import init, { COMPONENT } from \"/pkg/features2image_diffusion_dioxus_widgets.js\";\\n      async function main() {\\n        await init();\\n        COMPONENT(document.getElementById(\"dioxus-component\"));\\n      }\\n      main();\\n    </script>\\n<link rel=\"stylesheet\" href=\"/pkg/style.css\">\\n  </head>\\n  <body>\\n    <div id=\"dioxus-component\"ATTRIBUTES>DATA</div>\\n  </body>\\n</html>\\n')"
      ]
     },
     "execution_count": 2,
     "metadata": {},
     "output_type": "execute_result"
    }
   ],
   "source": [
    "import argtoml\n",
    "import dioxus_widget\n",
    "import jax\n",
    "import matplotlib.pyplot as plt\n",
    "import numpy as np\n",
    "import torch\n",
    "\n",
    "from pathlib import Path\n",
    "from typing import Tuple\n",
    "\n",
    "from jaxtyping import Float\n",
    "from jo3mnist.vis import to_img\n",
    "from torch.utils.data import DataLoader\n",
    "\n",
    "from features2image_diffusion.__main__ import evaluate\n",
    "from features2image_diffusion.data import load_mnist_with_features, loader_to_dataframe\n",
    "from features2image_diffusion.unet import load_ddpm\n",
    "\n",
    "np.set_printoptions(precision=3)\n",
    "\n",
    "RUN_PATH = Path.cwd() / \"run/7927ad448cfdb96d1e819f599d5ce8a200a3de67068866289c8cf1e0215ec398\"\n",
    "O = argtoml.parse_args(toml_path=[RUN_PATH / \"config.toml\"])\n",
    "RUN = O[\"run\"][0]\n",
    "DEVICE = \"cuda\"\n",
    "\n",
    "print(\"create the dataloader\")\n",
    "# TRAIN_LOADER, TEST_LOADER = load_mnist_with_features(\n",
    "    # RUN[\"feature_dir\"], O[\"mnist_dir\"], RUN[\"batch_size\"], shuffle=False\n",
    "# )\n",
    "print(\"convert the loader to a dataframe\")\n",
    "# TRAIN_SET = loader_to_dataframe(TRAIN_LOADER, img_dir=\"./res/mnist/img\")\n",
    "\n",
    "print(\"Launching the widget server\")\n",
    "dioxus_widget.init(\n",
    "    \"pkg/features2image_diffusion_dioxus_widgets.js\",\n",
    "    style_path=\"pkg/style.css\",\n",
    "    verbose=True\n",
    ")"
   ]
  },
  {
   "cell_type": "code",
   "execution_count": null,
   "id": "8e39dddb-6872-42a4-a6b8-2218fa2e9ee9",
   "metadata": {},
   "outputs": [
    {
     "data": {
      "application/vnd.jupyter.widget-view+json": {
       "model_id": "56062cf353a742919ba542e66ebe0e63",
       "version_major": 2,
       "version_minor": 0
      },
      "text/plain": [
       "Button(description='Stop', style=ButtonStyle())"
      ]
     },
     "metadata": {},
     "output_type": "display_data"
    },
    {
     "data": {
      "text/html": [
       "\n",
       "        <iframe\n",
       "            width=\"100%\"\n",
       "            height=\"500\"\n",
       "            src=\"http://localhost:8000/pkg/__tmp_dioxus_widget_iframe_wp5iz180.html\"\n",
       "            frameborder=\"0\"\n",
       "            allowfullscreen\n",
       "            \n",
       "        ></iframe>\n",
       "        "
      ],
      "text/plain": [
       "<IPython.lib.display.IFrame at 0x75e43efac210>"
      ]
     },
     "metadata": {},
     "output_type": "display_data"
    },
    {
     "name": "stderr",
     "output_type": "stream",
     "text": [
      "127.0.0.1 - - [09/Mar/2024 11:32:26] \"GET /pkg/__tmp_dioxus_widget_iframe_wp5iz180.html HTTP/1.1\" 200 -\n",
      "127.0.0.1 - - [09/Mar/2024 11:32:26] \"GET /pkg/style.css HTTP/1.1\" 200 -\n",
      "127.0.0.1 - - [09/Mar/2024 11:32:26] \"GET /pkg/features2image_diffusion_dioxus_widgets.js HTTP/1.1\" 200 -\n",
      "127.0.0.1 - - [09/Mar/2024 11:32:26] \"GET /pkg/snippets/dioxus-interpreter-js-85a0a2f8acce2e86/inline0.js HTTP/1.1\" 200 -\n",
      "127.0.0.1 - - [09/Mar/2024 11:32:26] \"GET /pkg/snippets/dioxus-interpreter-js-85a0a2f8acce2e86/src/common.js HTTP/1.1\" 200 -\n",
      "127.0.0.1 - - [09/Mar/2024 11:32:26] \"GET /pkg/snippets/dioxus-web-a95d8cc6c91ff8eb/inline0.js HTTP/1.1\" 200 -\n",
      "127.0.0.1 - - [09/Mar/2024 11:32:26] \"GET /pkg/snippets/dioxus-web-a95d8cc6c91ff8eb/src/eval.js HTTP/1.1\" 200 -\n",
      "127.0.0.1 - - [09/Mar/2024 11:32:26] \"GET /pkg/features2image_diffusion_dioxus_widgets_bg.wasm HTTP/1.1\" 200 -\n",
      "127.0.0.1 - - [09/Mar/2024 11:32:28] code 404, message File not found\n",
      "127.0.0.1 - - [09/Mar/2024 11:32:28] \"GET /_dioxus/hot_reload HTTP/1.1\" 404 -\n",
      "127.0.0.1 - - [09/Mar/2024 11:32:29] \"GET /run/4409b6282a7d05f0b08880228d6d6564011fa40be412073ff05aff8bf2dc49fa/0/0/0-images.png HTTP/1.1\" 200 -\n",
      "127.0.0.1 - - [09/Mar/2024 11:33:36] \"GET /run/4409b6282a7d05f0b08880228d6d6564011fa40be412073ff05aff8bf2dc49fa/0/255/0-images.png HTTP/1.1\" 200 -\n",
      "127.0.0.1 - - [09/Mar/2024 11:33:44] \"GET /run/4409b6282a7d05f0b08880228d6d6564011fa40be412073ff05aff8bf2dc49fa/0/255/3-images.png HTTP/1.1\" 200 -\n",
      "127.0.0.1 - - [09/Mar/2024 11:33:48] \"GET /run/4409b6282a7d05f0b08880228d6d6564011fa40be412073ff05aff8bf2dc49fa/0/255/2-images.png HTTP/1.1\" 200 -\n",
      "127.0.0.1 - - [09/Mar/2024 11:33:50] \"GET /run/4409b6282a7d05f0b08880228d6d6564011fa40be412073ff05aff8bf2dc49fa/0/255/1-images.png HTTP/1.1\" 200 -\n",
      "127.0.0.1 - - [09/Mar/2024 11:33:53] \"GET /run/4409b6282a7d05f0b08880228d6d6564011fa40be412073ff05aff8bf2dc49fa/0/255/0-images.png HTTP/1.1\" 200 -\n",
      "127.0.0.1 - - [09/Mar/2024 11:33:58] \"GET /run/4409b6282a7d05f0b08880228d6d6564011fa40be412073ff05aff8bf2dc49fa/0/255/3-images.png HTTP/1.1\" 200 -\n",
      "127.0.0.1 - - [09/Mar/2024 11:34:07] \"GET /run/4409b6282a7d05f0b08880228d6d6564011fa40be412073ff05aff8bf2dc49fa/2/255/3-images.png HTTP/1.1\" 200 -\n",
      "127.0.0.1 - - [09/Mar/2024 11:34:11] \"GET /run/4409b6282a7d05f0b08880228d6d6564011fa40be412073ff05aff8bf2dc49fa/3/255/3-images.png HTTP/1.1\" 200 -\n",
      "127.0.0.1 - - [09/Mar/2024 11:34:15] \"GET /run/4409b6282a7d05f0b08880228d6d6564011fa40be412073ff05aff8bf2dc49fa/4/255/3-images.png HTTP/1.1\" 200 -\n",
      "127.0.0.1 - - [09/Mar/2024 11:34:18] \"GET /run/4409b6282a7d05f0b08880228d6d6564011fa40be412073ff05aff8bf2dc49fa/5/255/3-images.png HTTP/1.1\" 200 -\n",
      "127.0.0.1 - - [09/Mar/2024 11:34:20] \"GET /run/4409b6282a7d05f0b08880228d6d6564011fa40be412073ff05aff8bf2dc49fa/6/255/3-images.png HTTP/1.1\" 200 -\n",
      "127.0.0.1 - - [09/Mar/2024 11:34:22] \"GET /run/4409b6282a7d05f0b08880228d6d6564011fa40be412073ff05aff8bf2dc49fa/7/255/3-images.png HTTP/1.1\" 200 -\n",
      "127.0.0.1 - - [09/Mar/2024 11:34:26] \"GET /run/4409b6282a7d05f0b08880228d6d6564011fa40be412073ff05aff8bf2dc49fa/7/255/2-images.png HTTP/1.1\" 200 -\n",
      "127.0.0.1 - - [09/Mar/2024 11:34:28] \"GET /run/4409b6282a7d05f0b08880228d6d6564011fa40be412073ff05aff8bf2dc49fa/7/255/1-images.png HTTP/1.1\" 200 -\n",
      "127.0.0.1 - - [09/Mar/2024 11:34:31] \"GET /run/4409b6282a7d05f0b08880228d6d6564011fa40be412073ff05aff8bf2dc49fa/7/255/0-images.png HTTP/1.1\" 200 -\n"
     ]
    }
   ],
   "source": [
    "RUN_ID = \"4409b6282a7d05f0b08880228d6d6564011fa40be412073ff05aff8bf2dc49fa\"\n",
    "dioxus_widget.debug(\"feature_images\", \"\", {\"run\": RUN_ID}, width=\"100%\")"
   ]
  },
  {
   "cell_type": "code",
   "execution_count": null,
   "id": "04bfa4f5-f6ac-45ba-8010-94847e34541f",
   "metadata": {},
   "outputs": [],
   "source": [
    "dioxus_widget.clean()"
   ]
  }
 ],
 "metadata": {
  "kernelspec": {
   "display_name": "Rust+Wasm",
   "language": "rust",
   "name": "rust"
  },
  "language_info": {
   "codemirror_mode": "rust",
   "file_extension": ".rs",
   "mimetype": "text/rust",
   "name": "Rust",
   "pygment_lexer": "rust",
   "version": ""
  }
 },
 "nbformat": 4,
 "nbformat_minor": 5
}
