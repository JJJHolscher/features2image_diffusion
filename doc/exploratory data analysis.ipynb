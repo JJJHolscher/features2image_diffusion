{
 "cells": [
  {
   "cell_type": "code",
   "execution_count": 11,
   "id": "630c31e2-cd77-4ad5-adf7-809835880667",
   "metadata": {},
   "outputs": [
    {
     "data": {
      "text/html": [
       "\n",
       "<script>\n",
       "if (typeof window.evcxr === 'undefined') {\n",
       "    window.evcxr = {};\n",
       "\n",
       "    // jupyter lab hides files behind the '/files/' prefix.\n",
       "    // which is annoying. We have to have to mind that while loading.\n",
       "    // here we find the path of the notebook in the active Jupyter Lab tab.\n",
       "    console.log('your first time calling the wasm command from evcxr, requires you to stay on the same jupyter lab tab during compilation, if you are using jupyter lab. sorry');\n",
       "    active_tab = document.querySelector('[class~=jp-mod-current]');\n",
       "    console.log(active_tab);\n",
       "    if (active_tab !== null) {\n",
       "        nb_dir = './' + active_tab.title.split('\\n')[1].substr(6);\n",
       "        nb_dir = nb_dir.substr(0, nb_dir.lastIndexOf('/'));\n",
       "        window.evcxr_cwd = '/files/' + nb_dir;\n",
       "    }\n",
       "}\n",
       "\n",
       "window.__evcxr_load = function(init, wasm_bindgen) {\n",
       "    for (const [fn_name, fn] of Object.entries(wasm_bindgen)) {\n",
       "        if (typeof fn === 'function') {\n",
       "            async function loader_fn(...args) {\n",
       "                await init();\n",
       "                return fn(...args);\n",
       "            };\n",
       "            Object.defineProperty(window.evcxr, fn_name, { \n",
       "                writable: true,\n",
       "                value: loader_fn \n",
       "            });\n",
       "        }\n",
       "    }\n",
       "}\n",
       "\n",
       "if (window.evcxr_cwd) {\n",
       "    import(window.evcxr_cwd + '/evcxr_pkg/feature-images/ctx.js').then((module) => {\n",
       "        window.__evcxr_load(module.default, module);\n",
       "    });\n",
       "}\n",
       "</script>\n",
       "<script type='module'>\n",
       "// this errors inside jupyter lab or jupyter notebook\n",
       "import init, * as wasm_bindgen from './evcxr_pkg/feature-images/ctx.js'\n",
       "window.__evcxr_load(init, wasm_bindgen);\n",
       "window.evcxr_cwd = '.'\n",
       "</script>\n"
      ]
     },
     "execution_count": 11,
     "metadata": {},
     "output_type": "execute_result"
    }
   ],
   "source": [
    ":wasm feature-images\n",
    ":dep wasm-bindgen = \"*\"\n",
    ":dep features2image_diffusion-widget = { path = \"../widget\" }\n",
    ":dep web-sys = { version = \"*\", features = [\"HtmlElement\"] }\n",
    "use wasm_bindgen::prelude::*;\n",
    "use features2image_diffusion_widget;\n",
    "use web_sys::HtmlElement;"
   ]
  },
  {
   "cell_type": "code",
   "execution_count": 36,
   "id": "aa694acc-7876-4d53-816b-9cc37d51edce",
   "metadata": {},
   "outputs": [],
   "source": [
    ":dep features2image_diffusion-read-result = { path = \"../read-result\" }\n",
    ":dep evcxr_ssg = \"*\"\n",
    "use evcxr_ssg::call_wasm;\n",
    "use features2image_diffusion_read_result::{\n",
    "    create_file_tensor,\n",
    "    f2id_fs::Files,\n",
    "    list_paths::list_paths\n",
    "};\n",
    "\n",
    "let RUN_ID = \"4409b6282a7d05f0b08880228d6d6564011fa40be412073ff05aff8bf2dc49fa\";\n",
    "let RUN_DIR = format!(\"../xyz/run/{RUN_ID}\");"
   ]
  },
  {
   "cell_type": "code",
   "execution_count": 37,
   "id": "37d41223-c5e7-43b2-808a-6ebb95bfbd15",
   "metadata": {},
   "outputs": [
    {
     "data": {
      "text/plain": [
       "[18, 256, 4, 3]"
      ]
     },
     "execution_count": 37,
     "metadata": {},
     "output_type": "execute_result"
    }
   ],
   "source": [
    "let files: Files = create_file_tensor(&RUN_DIR).unwrap();\n",
    "files.dfmt.shape()"
   ]
  },
  {
   "cell_type": "code",
   "execution_count": 38,
   "id": "7386f0e9-a26b-4086-a326-fce6fe76c271",
   "metadata": {},
   "outputs": [
    {
     "data": {
      "text/html": [
       "<div id='feature_images_pybp0XxM'></div>\n",
       "<script>\n",
       "    async function __evcxr_display_feature_images_pybp0XxM() {\n",
       "        root = document.getElementById('feature_images_pybp0XxM');\n",
       "        args = [];\n",
       "        args.push(root);\n",
       "args.push(evcxr_cwd + '/../xyz/run/4409b6282a7d05f0b08880228d6d6564011fa40be412073ff05aff8bf2dc49fa');\n",
       "resp = await fetch(window.evcxr_cwd + '/evcxr_pkg/5264a7c33baae135628160ee10edecd138517f51296236149781012e719086c2.postcard');\n",
       "            args.push(new Uint8Array(await resp.arrayBuffer()));\n",
       "        window.evcxr.feature_images(...args);\n",
       "    };\n",
       "    if (Object.keys(window.evcxr)) {\n",
       "        __evcxr_display_feature_images_pybp0XxM();\n",
       "    } else {\n",
       "        window.addEventListener('load', __evcxr_display_feature_images_pybp0XxM);\n",
       "    }\n",
       "</script>\n"
      ]
     },
     "execution_count": 38,
     "metadata": {},
     "output_type": "execute_result"
    }
   ],
   "source": [
    "call_wasm!(\"feature_images\", \"$\", &RUN_DIR, &files);"
   ]
  },
  {
   "cell_type": "code",
   "execution_count": null,
   "id": "6b006157-13d2-402b-8e3d-8db5738535b9",
   "metadata": {},
   "outputs": [],
   "source": []
  }
 ],
 "metadata": {
  "kernelspec": {
   "display_name": "Rust+Wasm",
   "language": "rust",
   "name": "rust"
  },
  "language_info": {
   "codemirror_mode": "rust",
   "file_extension": ".rs",
   "mimetype": "text/rust",
   "name": "Rust",
   "pygment_lexer": "rust",
   "version": ""
  }
 },
 "nbformat": 4,
 "nbformat_minor": 5
}
