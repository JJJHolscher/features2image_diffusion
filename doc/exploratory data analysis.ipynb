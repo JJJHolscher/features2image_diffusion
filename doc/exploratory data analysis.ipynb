{
 "cells": [
  {
   "cell_type": "code",
   "execution_count": null,
   "id": "630c31e2-cd77-4ad5-adf7-809835880667",
   "metadata": {},
   "outputs": [],
   "source": [
    ":wasm feature-images\n",
    ":dep wasm-bindgen = \"*\"\n",
    ":dep features2image_diffusion-widget = { path = \"../widget\" }\n",
    "use wasm_bindgen::prelude::*;\n",
    "use features2image_diffusion_dioxus_widgets;\n",
    "\n",
    "#[wasm_bindgen]\n",
    "pub fn feature_images(id: String, path_tensor: String) {\n",
    "    features2image_diffusion_dioxus_widgets::feature_images(id, path_tensor);\n",
    "}"
   ]
  },
  {
   "cell_type": "code",
   "execution_count": 70,
   "id": "f339dd62-6465-4bf7-ba04-56e76657bbf7",
   "metadata": {},
   "outputs": [
    {
     "data": {
      "text/html": [
       "    <div id='rvdzQ5jFMtpyd51z'></div>\n",
       "    <script>\n",
       "        async function __evcxr_display() {\n",
       "            evcxr = window.evcxr;\n",
       "            root = document.getElementById('rvdzQ5jFMtpyd51z');\n",
       "            root.innerHTML = await evcxr.greet('world')\n",
       "        };\n",
       "        window.on_load = __evcxr_display;\n",
       "        __evcxr_display();\n",
       "    </script>\n",
       "    "
      ]
     },
     "execution_count": 70,
     "metadata": {},
     "output_type": "execute_result"
    }
   ],
   "source": [
    ":dep rand = \"*\"\n",
    "use rand::distributions::{Alphanumeric, DistString};\n",
    "\n",
    "fn display_js(js: &str) {\n",
    "    let id = Alphanumeric.sample_string(&mut rand::thread_rng(), 16);\n",
    "    println!(\"EVCXR_BEGIN_CONTENT text/html\\n\n",
    "    <div id='{id}'></div>\n",
    "    <script>\n",
    "        async function __evcxr_display() {{\n",
    "            evcxr = window.evcxr;\n",
    "            root = document.getElementById('{id}');\n",
    "            {js}\n",
    "        }};\n",
    "        window.on_load = __evcxr_display;\n",
    "        __evcxr_display();\n",
    "    </script>\n",
    "    \\nEVCXR_END_CONTENT\");\n",
    "}\n",
    "\n",
    "display_js(\"root.innerHTML = await evcxr.greet('world')\");"
   ]
  },
  {
   "cell_type": "code",
   "execution_count": 2,
   "id": "aa694acc-7876-4d53-816b-9cc37d51edce",
   "metadata": {},
   "outputs": [],
   "source": [
    ":dep features2image_diffusion-read-result = { path = \"../read-result\" }\n",
    "use features2image_diffusion_read_result::create_file_tensor;\n",
    "use features2image_diffusion_read_result::f2id_fs::Files;\n",
    "use features2image_diffusion_read_result::list_paths::list_paths;\n",
    "\n",
    "let RUN_ID = \"4409b6282a7d05f0b08880228d6d6564011fa40be412073ff05aff8bf2dc49fa\";\n",
    "let RUN_DIR = format!(\"../xyz/run/{RUN_ID}\");\n",
    "let paths = list_paths(&RUN_DIR).unwrap();"
   ]
  },
  {
   "cell_type": "code",
   "execution_count": 23,
   "id": "94124a92-b607-4604-9306-56b56f9587e9",
   "metadata": {},
   "outputs": [
    {
     "data": {
      "text/plain": [
       "\"./6/0/0-features.npy\""
      ]
     },
     "execution_count": 23,
     "metadata": {},
     "output_type": "execute_result"
    }
   ],
   "source": [
    "// let p = &paths[0];\n",
    "&paths[10000]"
   ]
  },
  {
   "cell_type": "code",
   "execution_count": 6,
   "id": "37d41223-c5e7-43b2-808a-6ebb95bfbd15",
   "metadata": {},
   "outputs": [
    {
     "data": {
      "text/plain": [
       "[18, 256, 4, 3]"
      ]
     },
     "execution_count": 6,
     "metadata": {},
     "output_type": "execute_result"
    }
   ],
   "source": [
    "let files: Files = create_file_tensor(&RUN_DIR).unwrap();\n",
    "files.dfmt.shape()"
   ]
  }
 ],
 "metadata": {
  "kernelspec": {
   "display_name": "Rust+Wasm",
   "language": "rust",
   "name": "rust"
  },
  "language_info": {
   "codemirror_mode": "rust",
   "file_extension": ".rs",
   "mimetype": "text/rust",
   "name": "Rust",
   "pygment_lexer": "rust",
   "version": ""
  }
 },
 "nbformat": 4,
 "nbformat_minor": 5
}
