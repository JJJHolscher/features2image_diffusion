{
  "cells": [
    {
      "cell_type": "code",
      "metadata": {},
      "source": [
        "#| echo: false\n",
        "#| output: false\n",
        "%cd .."
      ],
      "id": "7bbc8a1d",
      "execution_count": null,
      "outputs": []
    },
    {
      "cell_type": "markdown",
      "metadata": {},
      "source": [
        "# Sampling imagenet images from the ddpm\n",
        "\n",
        "To make the [openai diffusion model](https://github.com/openai/improved-diffusion) work in equinox, I've had to rewrite the code but I also a way to load the torch weights into my equinox python class.  \n",
        "That's what this code will be for.\n",
        "\n",
        "Here are the arguments of the model of interest:\n"
      ],
      "id": "09342614"
    },
    {
      "cell_type": "code",
      "metadata": {},
      "source": [
        "import jax\n",
        "from jo3util.eqx import load as jo3load\n",
        "from improved_diffusion_equinox import script_util\n",
        "\n",
        "WEIGHTS_PATH = \"res/imagenet64_cond_270M_250K.eqx\"\n",
        "\n",
        "# jax.config.update(\"jax_platform_name\", \"cpu\")\n",
        "jax.config.update(\"jax_enable_x64\", True)\n",
        "\n",
        "model = jo3load(ARGUMENTS_PATH, script_util.create_model)"
      ],
      "id": "7ccbd29c",
      "execution_count": null,
      "outputs": []
    },
    {
      "cell_type": "code",
      "metadata": {},
      "source": [
        "import argtoml\n",
        "\n",
        "ARGUMENTS_PATH = \"imagenet64_cond_270M_250K.toml\"\n",
        "\n",
        "args = argtoml.parse_args([\"improved-diffusion.toml\", ARGUMENTS_PATH])\n",
        "\n",
        "diffusion = script_util.create_gaussian_diffusion(**args[\"diffusion\"])"
      ],
      "id": "5146bfa5",
      "execution_count": null,
      "outputs": []
    }
  ],
  "metadata": {
    "kernelspec": {
      "name": "python3",
      "language": "python",
      "display_name": "Python 3 (ipykernel)"
    }
  },
  "nbformat": 4,
  "nbformat_minor": 5
}